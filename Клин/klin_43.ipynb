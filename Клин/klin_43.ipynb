{
 "cells": [
  {
   "cell_type": "markdown",
   "metadata": {},
   "source": [
    " ## Расчетное задания по одномерной газовой динамике\n",
    " #### 43: Клин"
   ]
  },
  {
   "cell_type": "markdown",
   "metadata": {},
   "source": [
    "#### Задание\n",
    "Рассчитать  значение  угла  полураствора  клина  $\\Theta$ и  соответствующий  ему  угол  наклона косого скачка  уплотнения $\\beta$, при  котором число  Маха  за  скачком  $M_2=1$. Число  $M_1 = 1.2,  1.4, 1.6,  2.0,  3.0,  4.0,  5.0,  10.0;$\n",
    "$k=\\frac{C_p}{C_v}=1.67$"
   ]
  },
  {
   "cell_type": "markdown",
   "metadata": {},
   "source": [
    "### (стр.242 $\\S$62 (90)):\n",
    "#### $$M^2_2 sin(\\beta-\\Theta)^2 = \\frac{ 1 + \\frac{k-1}{2} M^2_1 sin(\\beta)^2}{k M^2_1 sin(\\beta)^2 - \\frac{k-1}{2}} $$\n",
    "### Угол полураствора клина  $\\Theta$ можно получить по следующей формуле (стр.241 $\\S$62 (89)):\n",
    "#### $$tg(\\Theta)=\\frac{sin(\\beta)^2-\\frac{1}{M_1^2}}{\\frac{k+1}{2}-sin(\\beta)^2+\\frac{1}{M_1^2}}ctg(\\beta) $$"
   ]
  },
  {
   "cell_type": "code",
   "execution_count": 2,
   "metadata": {},
   "outputs": [],
   "source": [
    "# coding: utf8\n",
    "import matplotlib.pyplot as plt\n",
    "import numpy as np\n",
    "import pandas as pd\n",
    "\n",
    "M1 = np.array([1.2,1.4,1.6,2.0,3.0,4.0,5.0,10.0])\n",
    "M2 = 1.0       # за скачком\n",
    "k  = 1.67\n",
    "Qi_iter = []\n",
    "bi_iter = []\n",
    "Qi = []\n",
    "bi = []"
   ]
  },
  {
   "cell_type": "code",
   "execution_count": 3,
   "metadata": {},
   "outputs": [],
   "source": [
    "def f1(m1,b):\n",
    "    Q = f2(m1,b)\n",
    "    top = 1.0 + (k-1.0)/2*m1**2*np.sin(b)**2\n",
    "    floor = k*m1**2*np.sin(b)**2 -(k-1.0)/2\n",
    "    right = M2**2*np.sin(b-Q)**2\n",
    "\n",
    "    Qi_iter.append(Q)\n",
    "    bi_iter.append(b)\n",
    "    return top/floor - right"
   ]
  },
  {
   "cell_type": "code",
   "execution_count": 4,
   "metadata": {},
   "outputs": [],
   "source": [
    "def f2(m1,b):\n",
    "    return np.arctan((np.sin(b)**2-1.0/m1**2)/((k+1.0)/2.0-np.sin(b)**2+1.0/m1**2)/np.tan(b))"
   ]
  },
  {
   "cell_type": "code",
   "execution_count": 5,
   "metadata": {},
   "outputs": [],
   "source": [
    "def MPD(f,m1,A,B): \n",
    "    eps = 1e-7    \n",
    "    while abs(B-A) >= eps:\n",
    "        c = (B+A)/2.0\n",
    "        if f(m1,c) == 0.0:\n",
    "            break\n",
    "        if f(m1,A)*f(m1,c) < 0.0:\n",
    "            B = c\n",
    "        else:\n",
    "            A = c\n",
    "    return c"
   ]
  },
  {
   "cell_type": "code",
   "execution_count": 6,
   "metadata": {},
   "outputs": [],
   "source": [
    "for m1 in M1:\n",
    "    b_init = MPD(f2,m1,np.deg2rad(0.01), np.deg2rad(90.0))\n",
    "    MPD(f1,m1,b_init,np.deg2rad(90.0))\n",
    "    Qi.append(Qi_iter[-1])\n",
    "    bi.append(bi_iter[-1])\n",
    "    Qi_iter = []\n",
    "    bi_iter = []"
   ]
  },
  {
   "cell_type": "code",
   "execution_count": 7,
   "metadata": {},
   "outputs": [
    {
     "data": {
      "text/html": [
       "<div>\n",
       "<style scoped>\n",
       "    .dataframe tbody tr th:only-of-type {\n",
       "        vertical-align: middle;\n",
       "    }\n",
       "\n",
       "    .dataframe tbody tr th {\n",
       "        vertical-align: top;\n",
       "    }\n",
       "\n",
       "    .dataframe thead th {\n",
       "        text-align: right;\n",
       "    }\n",
       "</style>\n",
       "<table border=\"1\" class=\"dataframe\">\n",
       "  <thead>\n",
       "    <tr style=\"text-align: right;\">\n",
       "      <th></th>\n",
       "      <th>M1</th>\n",
       "      <th>Θ</th>\n",
       "      <th>β</th>\n",
       "    </tr>\n",
       "  </thead>\n",
       "  <tbody>\n",
       "    <tr>\n",
       "      <th>0</th>\n",
       "      <td>1.2</td>\n",
       "      <td>3.260381</td>\n",
       "      <td>67.947513</td>\n",
       "    </tr>\n",
       "    <tr>\n",
       "      <th>1</th>\n",
       "      <td>1.4</td>\n",
       "      <td>7.816933</td>\n",
       "      <td>62.925364</td>\n",
       "    </tr>\n",
       "    <tr>\n",
       "      <th>2</th>\n",
       "      <td>1.6</td>\n",
       "      <td>12.172258</td>\n",
       "      <td>60.902972</td>\n",
       "    </tr>\n",
       "    <tr>\n",
       "      <th>3</th>\n",
       "      <td>2.0</td>\n",
       "      <td>19.069024</td>\n",
       "      <td>59.984527</td>\n",
       "    </tr>\n",
       "    <tr>\n",
       "      <th>4</th>\n",
       "      <td>3.0</td>\n",
       "      <td>28.016304</td>\n",
       "      <td>60.990713</td>\n",
       "    </tr>\n",
       "    <tr>\n",
       "      <th>5</th>\n",
       "      <td>4.0</td>\n",
       "      <td>31.671352</td>\n",
       "      <td>61.856862</td>\n",
       "    </tr>\n",
       "    <tr>\n",
       "      <th>6</th>\n",
       "      <td>5.0</td>\n",
       "      <td>33.457245</td>\n",
       "      <td>62.353785</td>\n",
       "    </tr>\n",
       "    <tr>\n",
       "      <th>7</th>\n",
       "      <td>10.0</td>\n",
       "      <td>35.933774</td>\n",
       "      <td>63.113607</td>\n",
       "    </tr>\n",
       "  </tbody>\n",
       "</table>\n",
       "</div>"
      ],
      "text/plain": [
       "     M1          Θ          β\n",
       "0   1.2   3.260381  67.947513\n",
       "1   1.4   7.816933  62.925364\n",
       "2   1.6  12.172258  60.902972\n",
       "3   2.0  19.069024  59.984527\n",
       "4   3.0  28.016304  60.990713\n",
       "5   4.0  31.671352  61.856862\n",
       "6   5.0  33.457245  62.353785\n",
       "7  10.0  35.933774  63.113607"
      ]
     },
     "execution_count": 7,
     "metadata": {},
     "output_type": "execute_result"
    }
   ],
   "source": [
    "df = pd.DataFrame({\n",
    "    'M1': M1,\n",
    "    u'\\u0398': np.rad2deg(Qi),\n",
    "    u'\\u03B2': np.rad2deg(bi)\n",
    " })\n",
    "writer = pd.ExcelWriter('result.xlsx')\n",
    "df.to_excel(writer,'Sheet1')\n",
    "writer.save()\n",
    "df"
   ]
  },
  {
   "cell_type": "code",
   "execution_count": 8,
   "metadata": {},
   "outputs": [
    {
     "data": {
      "image/png": "[encoded data removed]",
      "text/plain": [
       "<matplotlib.figure.Figure at 0x9192ef0>"
      ]
     },
     "metadata": {},
     "output_type": "display_data"
    }
   ],
   "source": [
    "plt.title(u'Графики зависимости углов \\u0398, \\u03B2 от $M_1$')\n",
    "plt.xlabel(u'Число Маха, $M_1$')\n",
    "plt.ylabel(u'Угол, град.')\n",
    "plt.plot(M1,np.rad2deg(bi),'ro')\n",
    "plt.plot(M1,np.rad2deg(Qi),'bo')\n",
    "plt.grid(True)\n",
    "plt.savefig('result.png')"
   ]
  }
 ],
 "metadata": {
  "kernelspec": {
   "display_name": "Python 2",
   "language": "python",
   "name": "python2"
  },
  "language_info": {
   "codemirror_mode": {
    "name": "ipython",
    "version": 2
   },
   "file_extension": ".py",
   "mimetype": "text/x-python",
   "name": "python",
   "nbconvert_exporter": "python",
   "pygments_lexer": "ipython2",
   "version": "2.7.14"
  }
 },
 "nbformat": 4,
 "nbformat_minor": 2
}
