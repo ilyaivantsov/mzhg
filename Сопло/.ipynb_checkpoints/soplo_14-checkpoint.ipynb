{
 "cells": [
  {
   "cell_type": "markdown",
   "metadata": {},
   "source": [
    "## Задание $14^*$\n",
    "Сопло  Лаваля  описывается  следующим  законом  распределения  площадей  \n",
    "### $$ \\frac{A}{A^*} = \\sqrt { 1 + 0.1 \\left | \\frac{x}{A^*} \\right | };  A^* = 1; -10\\leq x\\leq200 $$\n",
    "Построить распределение числа Маха в предположении, что при  $М = 3$  располагается прямой  скачок  уплотнения. Шаг  по  координате  при  выводе  результатов $x = 10$."
   ]
  },
  {
   "cell_type": "code",
   "execution_count": 1,
   "metadata": {},
   "outputs": [],
   "source": [
    "# coding: utf8\n",
    "import matplotlib.pyplot as plt\n",
    "import numpy as np\n",
    "\n",
    "A_star = 1.0\n",
    "k = 1.4 # показатель адиабаты газа (воздух)"
   ]
  },
  {
   "cell_type": "code",
   "execution_count": 2,
   "metadata": {},
   "outputs": [],
   "source": [
    "def prof(x):\n",
    "    return np.sqrt(1+0.1*abs(x/A_star))*A_star"
   ]
  },
  {
   "cell_type": "code",
   "execution_count": 3,
   "metadata": {},
   "outputs": [
    {
     "data": {
      "image/png": "[encoded data removed]",
      "text/plain": [
       "<matplotlib.figure.Figure at 0x8281668>"
      ]
     },
     "metadata": {},
     "output_type": "display_data"
    }
   ],
   "source": [
    "x = np.linspace(-10, 200, num=1000)\n",
    "plt.title(u'Профиль сопла')\n",
    "plt.xlabel(u'$x$' )\n",
    "plt.ylabel(u'$y$')\n",
    "plt.plot(x,prof(x),'g')\n",
    "plt.grid(True)"
   ]
  },
  {
   "cell_type": "markdown",
   "metadata": {},
   "source": [
    "Для решения задачи мы можем воспользоваться изэнтропическими формулами.\n",
    "\n",
    "Параметрическое решение задачи об одномерном газовом потоке в трубе переменного сечения задается формулой:\n",
    "### $$ \\frac{A}{A^*} = \\frac{2}{k+1}^{\\frac{k+1}{2(k-1)}}\\frac{1}{M} {\\left ( 1 + \\frac{k-1}{2} M^2 \\right)}^ \\frac{k+1}{2(k-1)} $$"
   ]
  },
  {
   "cell_type": "code",
   "execution_count": 4,
   "metadata": {},
   "outputs": [],
   "source": [
    "def maxa(M,A):\n",
    "    return (2.0/(k+1.0))**((k+1.0)/(2*(k-1.0)))*(1.0/M)*(1.0+(k-1.0)/2*M**2)**((k+1.0)/(2*(k-1.0)))-A/A_star"
   ]
  },
  {
   "cell_type": "code",
   "execution_count": 5,
   "metadata": {},
   "outputs": [],
   "source": [
    "def MPD(f,A,a,b): \n",
    "    eps = 1e-7    \n",
    "    while abs(b-a) >= eps:\n",
    "        c = (b+a)/2.0\n",
    "        if f(c,A) == 0.0:\n",
    "            break\n",
    "        if f(a,A)*f(c,A) < 0.0:\n",
    "            b = c\n",
    "        else:\n",
    "            a = c\n",
    "    return c"
   ]
  },
  {
   "cell_type": "code",
   "execution_count": 6,
   "metadata": {},
   "outputs": [
    {
     "data": {
      "image/png": "[encoded data removed]",
      "text/plain": [
       "<matplotlib.figure.Figure at 0x85302b0>"
      ]
     },
     "metadata": {},
     "output_type": "display_data"
    }
   ],
   "source": [
    "steps = np.arange(10.0,210.0,10.0) # от 10 до 200 с шагом 10\n",
    "M = [1.0]\n",
    "for A in prof(steps):  \n",
    "    M.append(MPD(maxa,A,1,10.0))\n",
    "steps = np.insert(steps,0,0)\n",
    "plt.title(u'Значения числа $M(x)$ ')\n",
    "plt.xlabel(u'$x$' )\n",
    "plt.ylabel(u'$M$')\n",
    "plt.plot(steps,M,'ro')\n",
    "plt.grid(True)"
   ]
  },
  {
   "cell_type": "code",
   "execution_count": 7,
   "metadata": {},
   "outputs": [
    {
     "data": {
      "text/plain": [
       "[1.0,\n",
       " 1.776840217411518,\n",
       " 2.0310853347182274,\n",
       " 2.197198159992695,\n",
       " 2.3213501051068306,\n",
       " 2.4207156226038933,\n",
       " 2.5036633387207985,\n",
       " 2.574918769299984,\n",
       " 2.63741584867239,\n",
       " 2.693103738129139,\n",
       " 2.7433433905243874,\n",
       " 2.789123736321926,\n",
       " 2.8311856016516685,\n",
       " 2.870098687708378,\n",
       " 2.906310521066189,\n",
       " 2.9401791766285896,\n",
       " 2.971995674073696,\n",
       " 3.0019998028874397,\n",
       " 3.03039138764143,\n",
       " 3.0573386028409004,\n",
       " 3.0829846784472466]"
      ]
     },
     "execution_count": 7,
     "metadata": {},
     "output_type": "execute_result"
    }
   ],
   "source": [
    "M"
   ]
  }
 ],
 "metadata": {
  "kernelspec": {
   "display_name": "Python 2",
   "language": "python",
   "name": "python2"
  },
  "language_info": {
   "codemirror_mode": {
    "name": "ipython",
    "version": 2
   },
   "file_extension": ".py",
   "mimetype": "text/x-python",
   "name": "python",
   "nbconvert_exporter": "python",
   "pygments_lexer": "ipython2",
   "version": "2.7.14"
  }
 },
 "nbformat": 4,
 "nbformat_minor": 2
}
