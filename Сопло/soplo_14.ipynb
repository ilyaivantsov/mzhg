{
 "cells": [
  {
   "cell_type": "markdown",
   "metadata": {},
   "source": [
    "## Задание $14^*$\n",
    "Сопло  Лаваля  описывается  следующим  законом  распределения  площадей  \n",
    "### $$ \\frac{A}{A^*} = \\sqrt { 1 + 0.1 \\left | \\frac{x}{A^*} \\right | };  A^* = 1; -10\\leq x\\leq200 $$\n",
    "Построить распределение числа Маха в предположении, что при  $М = 3$  располагается прямой  скачок  уплотнения. Шаг  по  координате  при  выводе  результатов $x = 10$."
   ]
  },
  {
   "cell_type": "code",
   "execution_count": 68,
   "metadata": {},
   "outputs": [],
   "source": [
    "# coding: utf8\n",
    "import matplotlib.pyplot as plt\n",
    "import numpy as np\n",
    "import pandas as pd\n",
    "\n",
    "A_star = 1.0\n",
    "k = 1.4 # показатель адиабаты газа (воздух)"
   ]
  },
  {
   "cell_type": "code",
   "execution_count": 69,
   "metadata": {},
   "outputs": [],
   "source": [
    "def prof(x):\n",
    "    return np.sqrt(1+0.1*abs(x/A_star))*A_star"
   ]
  },
  {
   "cell_type": "code",
   "execution_count": 70,
   "metadata": {},
   "outputs": [
    {
     "data": {
      "image/png": "[encoded data removed]",
      "text/plain": [
       "<matplotlib.figure.Figure at 0xad23ba8>"
      ]
     },
     "metadata": {},
     "output_type": "display_data"
    }
   ],
   "source": [
    "x = np.linspace(-10, 200, num=1000)\n",
    "plt.title(u'Профиль сопла')\n",
    "plt.xlabel(u'$x$' )\n",
    "plt.ylabel(u'$y$')\n",
    "plt.plot(x,prof(x),'orange')\n",
    "plt.grid(True)\n",
    "plt.savefig('prof.png')"
   ]
  },
  {
   "cell_type": "markdown",
   "metadata": {},
   "source": [
    "Для решения задачи мы можем воспользоваться изэнтропическими формулами.\n",
    "\n",
    "Параметрическое решение задачи об одномерном газовом потоке в трубе переменного сечения задается формулой:\n",
    "### $$ \\frac{A}{A^*} = \\frac{2}{k+1}^{\\frac{k+1}{2(k-1)}}\\frac{1}{M} {\\left ( 1 + \\frac{k-1}{2} M^2 \\right)}^ \\frac{k+1}{2(k-1)} $$"
   ]
  },
  {
   "cell_type": "code",
   "execution_count": 71,
   "metadata": {},
   "outputs": [],
   "source": [
    "def maxa(M,A):\n",
    "    return (2.0/(k+1.0))**((k+1.0)/(2*(k-1.0)))*(1.0/M)*(1.0+(k-1.0)/2*M**2)**((k+1.0)/(2*(k-1.0)))-A/A_star"
   ]
  },
  {
   "cell_type": "code",
   "execution_count": 72,
   "metadata": {},
   "outputs": [],
   "source": [
    "def after_sk(M,A):\n",
    "    top = 1.0 + (k-1.0)/2*M**2\n",
    "    floor = 1.0 + (k-1.0)/2*M1**2\n",
    "    return M1/M*(top/floor)**((k+1.0)/(2*(k-1.0)))-A/A1"
   ]
  },
  {
   "cell_type": "code",
   "execution_count": 73,
   "metadata": {},
   "outputs": [],
   "source": [
    "def maxaA(M1):\n",
    "    top = 1.0 + (k-1.0)/2*M1**2\n",
    "    floor = k*M1**2 - (k-1.0)/2\n",
    "    return np.sqrt(top/floor)"
   ]
  },
  {
   "cell_type": "code",
   "execution_count": 74,
   "metadata": {},
   "outputs": [],
   "source": [
    "def MPD(f,A,a,b): \n",
    "    eps = 1e-7    \n",
    "    while abs(b-a) >= eps:\n",
    "        c = (b+a)/2.0\n",
    "        if f(c,A) == 0.0:\n",
    "            break\n",
    "        if f(a,A)*f(c,A) < 0.0:\n",
    "            b = c\n",
    "        else:\n",
    "            a = c\n",
    "    return c"
   ]
  },
  {
   "cell_type": "code",
   "execution_count": 75,
   "metadata": {},
   "outputs": [
    {
     "name": "stdout",
     "output_type": "stream",
     "text": [
      "0.4751909633114914\n"
     ]
    },
    {
     "data": {
      "text/plain": [
       "4.234567901234569"
      ]
     },
     "execution_count": 75,
     "metadata": {},
     "output_type": "execute_result"
    }
   ],
   "source": [
    "M_cr = 3.0\n",
    "A1 = (2.0/(k+1.0))**((k+1.0)/(2*(k-1.0)))*(1.0/M_cr)*(1.0+(k-1.0)/2*M_cr**2)**((k+1.0)/(2*(k-1.0)))*A_star #сечение скачка\n",
    "M1 = maxaA(M_cr)\n",
    "print(M2)\n",
    "A1"
   ]
  },
  {
   "cell_type": "code",
   "execution_count": 76,
   "metadata": {},
   "outputs": [
    {
     "data": {
      "image/png": "[encoded data removed]",
      "text/plain": [
       "<matplotlib.figure.Figure at 0xac72e10>"
      ]
     },
     "metadata": {},
     "output_type": "display_data"
    }
   ],
   "source": [
    "steps = np.arange(10.0,170.0,10.0) # от 10 до 200 с шагом 10\n",
    "M = [1.0]\n",
    "for A in prof(steps):  \n",
    "    M.append(MPD(maxa,A,1,10))\n",
    "steps = np.arange(170.0,210.0,10.0)\n",
    "for A in prof(steps):  \n",
    "    M.append(MPD(after_sk,A,1,10))\n",
    "steps = np.arange(10.0,210.0,10.0)\n",
    "steps = np.insert(steps,0,0)\n",
    "plt.title(u'Значения числа $M(x)$ ')\n",
    "plt.xlabel(u'$x$' )\n",
    "plt.ylabel(u'$M$')\n",
    "plt.plot(steps,M,'ro')\n",
    "plt.grid(True)\n",
    "plt.savefig('result.png')"
   ]
  },
  {
   "cell_type": "code",
   "execution_count": 77,
   "metadata": {},
   "outputs": [
    {
     "data": {
      "text/html": [
       "<div>\n",
       "<style scoped>\n",
       "    .dataframe tbody tr th:only-of-type {\n",
       "        vertical-align: middle;\n",
       "    }\n",
       "\n",
       "    .dataframe tbody tr th {\n",
       "        vertical-align: top;\n",
       "    }\n",
       "\n",
       "    .dataframe thead th {\n",
       "        text-align: right;\n",
       "    }\n",
       "</style>\n",
       "<table border=\"1\" class=\"dataframe\">\n",
       "  <thead>\n",
       "    <tr style=\"text-align: right;\">\n",
       "      <th></th>\n",
       "      <th>M</th>\n",
       "      <th>X</th>\n",
       "    </tr>\n",
       "  </thead>\n",
       "  <tbody>\n",
       "    <tr>\n",
       "      <th>0</th>\n",
       "      <td>1.000000</td>\n",
       "      <td>0.0</td>\n",
       "    </tr>\n",
       "    <tr>\n",
       "      <th>1</th>\n",
       "      <td>1.776840</td>\n",
       "      <td>10.0</td>\n",
       "    </tr>\n",
       "    <tr>\n",
       "      <th>2</th>\n",
       "      <td>2.031085</td>\n",
       "      <td>20.0</td>\n",
       "    </tr>\n",
       "    <tr>\n",
       "      <th>3</th>\n",
       "      <td>2.197198</td>\n",
       "      <td>30.0</td>\n",
       "    </tr>\n",
       "    <tr>\n",
       "      <th>4</th>\n",
       "      <td>2.321350</td>\n",
       "      <td>40.0</td>\n",
       "    </tr>\n",
       "    <tr>\n",
       "      <th>5</th>\n",
       "      <td>2.420716</td>\n",
       "      <td>50.0</td>\n",
       "    </tr>\n",
       "    <tr>\n",
       "      <th>6</th>\n",
       "      <td>2.503663</td>\n",
       "      <td>60.0</td>\n",
       "    </tr>\n",
       "    <tr>\n",
       "      <th>7</th>\n",
       "      <td>2.574919</td>\n",
       "      <td>70.0</td>\n",
       "    </tr>\n",
       "    <tr>\n",
       "      <th>8</th>\n",
       "      <td>2.637416</td>\n",
       "      <td>80.0</td>\n",
       "    </tr>\n",
       "    <tr>\n",
       "      <th>9</th>\n",
       "      <td>2.693104</td>\n",
       "      <td>90.0</td>\n",
       "    </tr>\n",
       "    <tr>\n",
       "      <th>10</th>\n",
       "      <td>2.743343</td>\n",
       "      <td>100.0</td>\n",
       "    </tr>\n",
       "    <tr>\n",
       "      <th>11</th>\n",
       "      <td>2.789124</td>\n",
       "      <td>110.0</td>\n",
       "    </tr>\n",
       "    <tr>\n",
       "      <th>12</th>\n",
       "      <td>2.831186</td>\n",
       "      <td>120.0</td>\n",
       "    </tr>\n",
       "    <tr>\n",
       "      <th>13</th>\n",
       "      <td>2.870099</td>\n",
       "      <td>130.0</td>\n",
       "    </tr>\n",
       "    <tr>\n",
       "      <th>14</th>\n",
       "      <td>2.906311</td>\n",
       "      <td>140.0</td>\n",
       "    </tr>\n",
       "    <tr>\n",
       "      <th>15</th>\n",
       "      <td>2.940179</td>\n",
       "      <td>150.0</td>\n",
       "    </tr>\n",
       "    <tr>\n",
       "      <th>16</th>\n",
       "      <td>2.971996</td>\n",
       "      <td>160.0</td>\n",
       "    </tr>\n",
       "    <tr>\n",
       "      <th>17</th>\n",
       "      <td>1.756437</td>\n",
       "      <td>170.0</td>\n",
       "    </tr>\n",
       "    <tr>\n",
       "      <th>18</th>\n",
       "      <td>1.792819</td>\n",
       "      <td>180.0</td>\n",
       "    </tr>\n",
       "    <tr>\n",
       "      <th>19</th>\n",
       "      <td>1.826585</td>\n",
       "      <td>190.0</td>\n",
       "    </tr>\n",
       "    <tr>\n",
       "      <th>20</th>\n",
       "      <td>1.858101</td>\n",
       "      <td>200.0</td>\n",
       "    </tr>\n",
       "  </tbody>\n",
       "</table>\n",
       "</div>"
      ],
      "text/plain": [
       "           M      X\n",
       "0   1.000000    0.0\n",
       "1   1.776840   10.0\n",
       "2   2.031085   20.0\n",
       "3   2.197198   30.0\n",
       "4   2.321350   40.0\n",
       "5   2.420716   50.0\n",
       "6   2.503663   60.0\n",
       "7   2.574919   70.0\n",
       "8   2.637416   80.0\n",
       "9   2.693104   90.0\n",
       "10  2.743343  100.0\n",
       "11  2.789124  110.0\n",
       "12  2.831186  120.0\n",
       "13  2.870099  130.0\n",
       "14  2.906311  140.0\n",
       "15  2.940179  150.0\n",
       "16  2.971996  160.0\n",
       "17  1.756437  170.0\n",
       "18  1.792819  180.0\n",
       "19  1.826585  190.0\n",
       "20  1.858101  200.0"
      ]
     },
     "execution_count": 77,
     "metadata": {},
     "output_type": "execute_result"
    }
   ],
   "source": [
    "df = pd.DataFrame({\n",
    "    'X': steps,\n",
    "    'M': M\n",
    " })\n",
    "writer = pd.ExcelWriter('result.xlsx')\n",
    "df.to_excel(writer,'Sheet1')\n",
    "writer.save()\n",
    "df"
   ]
  }
 ],
 "metadata": {
  "kernelspec": {
   "display_name": "Python 2",
   "language": "python",
   "name": "python2"
  },
  "language_info": {
   "codemirror_mode": {
    "name": "ipython",
    "version": 2
   },
   "file_extension": ".py",
   "mimetype": "text/x-python",
   "name": "python",
   "nbconvert_exporter": "python",
   "pygments_lexer": "ipython2",
   "version": "2.7.14"
  }
 },
 "nbformat": 4,
 "nbformat_minor": 2
}
